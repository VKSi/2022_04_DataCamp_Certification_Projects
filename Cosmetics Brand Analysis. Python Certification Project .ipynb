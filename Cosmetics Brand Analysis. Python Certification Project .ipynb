{
 "cells": [
  {
   "cell_type": "markdown",
   "metadata": {
    "dc": {
     "key": "4"
    },
    "deletable": false,
    "editable": false,
    "run_control": {
     "frozen": true
    },
    "tags": [
     "context"
    ]
   },
   "source": [
    "## Cosmetics Brand Analysis\n",
    "<p>The cosmetics industry is a 50 billion-dollar-a-year business in the US alone. Cosmetics sales are even used as an indicator for economic recessions (i.e., the \"lipstick index\").</p>\n",
    "<p>You are working for a cosmetics start-up that plans to launch a new line of organic products. The launch will focus on the following cosmetics categories: fragrances, makeup, and skincare. Your task is to find the average prices for four competitor brands across these three categories. </p>\n",
    "<p>You will be using data collected from Sephora's global store in your analysis. However, there are some additional requirements before you can present the results:</p>\n",
    "<ul>\n",
    "<li>The data available is unprocessed as received from Sephora. The start-up requests the categories as follows:</li>\n",
    "</ul>\n",
    "<table>\n",
    "<thead>\n",
    "<tr>\n",
    "<th>New category</th>\n",
    "<th style=\"text-align:left;\">Existing categories to reclassify</th>\n",
    "</tr>\n",
    "</thead>\n",
    "<tbody>\n",
    "<tr>\n",
    "<td>Fragrance</td>\n",
    "<td style=\"text-align:left;\">Perfume, Cologne</td>\n",
    "</tr>\n",
    "<tr>\n",
    "<td>Makeup</td>\n",
    "<td style=\"text-align:left;\">Eye Palettes, Lipstick, Highlighter, Foundation, Mascara, Eyeliner, Makeup, Eyeshadow</td>\n",
    "</tr>\n",
    "<tr>\n",
    "<td>Skincare</td>\n",
    "<td style=\"text-align:left;\">Moisturizers, Face Serums, Face Wash &amp; Cleansers, Face Masks, Face Primer, Body Lotions &amp; Body Oils,  Lotions &amp; Oils</td>\n",
    "</tr>\n",
    "</tbody>\n",
    "</table>\n",
    "<ul>\n",
    "<li><p>Currently, it is unclear who the primary competitors are. Find the top four brands by the combined number of fragrance, makeup, and skincare products produced.</p></li>\n",
    "<li><p>Exclude any products containing the toxic ingredient \"toluene\" from your analysis. Assume products with no ingredient information do not contain \"toluene\".</p></li>\n",
    "<li><p>Product prices should be compared in USD. Below are the conversions for currencies found in the dataset:</p>\n",
    "<ul>\n",
    "<li>1 EUR = 1.22 USD</li>\n",
    "<li>1 GBP = 1.42 USD</li>\n",
    "<li>1 Yen = 0.01 USD</li></ul></li>\n",
    "</ul>\n",
    "<hr>\n",
    "<p><em>The datasets available are listed below:</em></p>\n",
    "<div style=\"background-color: #efebe4; color: #05192d; text-align:left; vertical-align: middle; padding: 15px 25px 15px 25px; line-height: 1.6;\">\n",
    "    <div style=\"font-size:16px\"><b>datasets/cosmetics.csv - Catalogue of cosmetics products, including brand, category, price, and other characteristics</b>\n",
    "    </div>\n",
    "    <div>Source: <a href=\"https://www.kaggle.com/raghadalharbi/all-products-available-on-sephora-website/version/1\">Kaggle</a></div>\n",
    "<ul>\n",
    "    <li><b>id: </b>The product id.</li>\n",
    "    <li><b>brand: </b>The brand.</li>\n",
    "    <li><b>category: </b>The category of product.</li>\n",
    "    <li><b>name: </b>The name of the product.</li>\n",
    "    <li><b>size: </b>The size of the product.</li>\n",
    "    <li><b>price: </b>The price of the product (in various currencies).</li>\n",
    "    <li><b>rating: </b>The consumer rating of the product.</li>\n",
    "    <li><b>how_to_use: </b>Instructions for the product.</li>\n",
    "    <li><b>online_only: </b>Whether or not the product is online-exclusive.</li>\n",
    "    <li><b>limited_edition: </b>Whether or not the product is limited edition.</li>\n",
    "</ul>\n",
    "    </div>\n",
    "<div style=\"background-color: #efebe4; color: #05192d; text-align:left; vertical-align: middle; padding: 15px 25px 15px 25px; line-height: 1.6; margin-top: 17px;\">\n",
    "    <div style=\"font-size:16px\"><b>datasets/ingredients.txt - A tab-delimited file containing the product IDs and ingredients for products in the cosmetics dataset</b>\n",
    "    </div>\n",
    "    <div>Source: <a href=\"https://www.kaggle.com/raghadalharbi/all-products-available-on-sephora-website/version/1\">Kaggle</a></div>\n",
    "<ul>\n",
    "    <li><b>product_id: </b>The product id (corresponding to the id column in the cosmetics dataset).</li>\n",
    "    <li><b>ingredients: </b>The list of ingredients in the product.</li> \n",
    "</ul>\n",
    "    </div>\n",
    "<div style=\"background-color: #efebe4; color: #05192d; text-align:left; vertical-align: middle; padding: 15px 25px 15px 25px; line-height: 1.6; margin-top: 17px;\">\n",
    "    <div style=\"font-size:16px\"><b>datasets/cosmetics_categories.csv - Table containing the sub and broad categories for recategorization</b>\n",
    "    </div>\n",
    "<ul>\n",
    "    <li><b>sub_category: </b>The sub categories that exist in the cosmetics CSV that need to be recategorized.</li>\n",
    "    <li><b>broad_category: </b>The corresponding broader category to which the sub_category belongs to and needs to be recategorized as.</li> \n",
    "</ul>\n",
    "    </div>"
   ]
  },
  {
   "cell_type": "markdown",
   "metadata": {
    "dc": {
     "key": "4"
    }
   },
   "source": [
    "# Solution"
   ]
  },
  {
   "cell_type": "markdown",
   "metadata": {
    "dc": {
     "key": "4"
    }
   },
   "source": [
    "### 1. Datasets' mini-exploration"
   ]
  },
  {
   "cell_type": "code",
   "execution_count": 500,
   "metadata": {
    "dc": {
     "key": "4"
    },
    "tags": [
     "sample_code"
    ]
   },
   "outputs": [],
   "source": [
    "import pandas as pd\n",
    "import numpy as np"
   ]
  },
  {
   "cell_type": "markdown",
   "metadata": {
    "dc": {
     "key": "4"
    }
   },
   "source": [
    "#### Cosmetic table"
   ]
  },
  {
   "cell_type": "code",
   "execution_count": 501,
   "metadata": {
    "dc": {
     "key": "4"
    }
   },
   "outputs": [],
   "source": [
    "# Load the table\n",
    "cosm = pd.read_csv('datasets/cosmetics.csv')"
   ]
  },
  {
   "cell_type": "code",
   "execution_count": 502,
   "metadata": {
    "dc": {
     "key": "4"
    }
   },
   "outputs": [
    {
     "name": "stdout",
     "output_type": "stream",
     "text": [
      "<class 'pandas.core.frame.DataFrame'>\n",
      "RangeIndex: 8632 entries, 0 to 8631\n",
      "Data columns (total 10 columns):\n",
      " #   Column           Non-Null Count  Dtype  \n",
      "---  ------           --------------  -----  \n",
      " 0   id               8632 non-null   int64  \n",
      " 1   brand            8632 non-null   object \n",
      " 2   category         8632 non-null   object \n",
      " 3   name             8632 non-null   object \n",
      " 4   size             8632 non-null   object \n",
      " 5   price            8632 non-null   object \n",
      " 6   rating           8632 non-null   float64\n",
      " 7   how_to_use       8632 non-null   object \n",
      " 8   online_only      8632 non-null   int64  \n",
      " 9   limited_edition  8632 non-null   int64  \n",
      "dtypes: float64(1), int64(3), object(6)\n",
      "memory usage: 674.5+ KB\n"
     ]
    }
   ],
   "source": [
    "cosm.info()"
   ]
  },
  {
   "cell_type": "code",
   "execution_count": 503,
   "metadata": {
    "dc": {
     "key": "4"
    }
   },
   "outputs": [
    {
     "data": {
      "text/html": [
       "<div>\n",
       "<style scoped>\n",
       "    .dataframe tbody tr th:only-of-type {\n",
       "        vertical-align: middle;\n",
       "    }\n",
       "\n",
       "    .dataframe tbody tr th {\n",
       "        vertical-align: top;\n",
       "    }\n",
       "\n",
       "    .dataframe thead th {\n",
       "        text-align: right;\n",
       "    }\n",
       "</style>\n",
       "<table border=\"1\" class=\"dataframe\">\n",
       "  <thead>\n",
       "    <tr style=\"text-align: right;\">\n",
       "      <th></th>\n",
       "      <th>id</th>\n",
       "      <th>brand</th>\n",
       "      <th>category</th>\n",
       "      <th>name</th>\n",
       "      <th>size</th>\n",
       "      <th>price</th>\n",
       "      <th>rating</th>\n",
       "      <th>how_to_use</th>\n",
       "      <th>online_only</th>\n",
       "      <th>limited_edition</th>\n",
       "    </tr>\n",
       "  </thead>\n",
       "  <tbody>\n",
       "    <tr>\n",
       "      <th>0</th>\n",
       "      <td>2218774</td>\n",
       "      <td>Acqua Di Parma</td>\n",
       "      <td>Perfume</td>\n",
       "      <td>Blu Mediterraneo MINIATURE Set</td>\n",
       "      <td>5 x 0.16oz/5mL</td>\n",
       "      <td>USD 66</td>\n",
       "      <td>4.0</td>\n",
       "      <td>Suggested Usage:-Fragrance is intensified by t...</td>\n",
       "      <td>1</td>\n",
       "      <td>0</td>\n",
       "    </tr>\n",
       "    <tr>\n",
       "      <th>1</th>\n",
       "      <td>2044816</td>\n",
       "      <td>Acqua Di Parma</td>\n",
       "      <td>Cologne</td>\n",
       "      <td>Colonia</td>\n",
       "      <td>0.7 oz/ 20 mL</td>\n",
       "      <td>USD 66</td>\n",
       "      <td>4.5</td>\n",
       "      <td>no instructions</td>\n",
       "      <td>1</td>\n",
       "      <td>0</td>\n",
       "    </tr>\n",
       "    <tr>\n",
       "      <th>2</th>\n",
       "      <td>1417567</td>\n",
       "      <td>Acqua Di Parma</td>\n",
       "      <td>Perfume</td>\n",
       "      <td>Arancia di Capri</td>\n",
       "      <td>5 oz/ 148 mL</td>\n",
       "      <td>USD 180</td>\n",
       "      <td>4.5</td>\n",
       "      <td>no instructions</td>\n",
       "      <td>1</td>\n",
       "      <td>0</td>\n",
       "    </tr>\n",
       "    <tr>\n",
       "      <th>3</th>\n",
       "      <td>1417617</td>\n",
       "      <td>Acqua Di Parma</td>\n",
       "      <td>Perfume</td>\n",
       "      <td>Mirto di Panarea</td>\n",
       "      <td>2.5 oz/ 74 mL</td>\n",
       "      <td>USD 120</td>\n",
       "      <td>4.5</td>\n",
       "      <td>no instructions</td>\n",
       "      <td>1</td>\n",
       "      <td>0</td>\n",
       "    </tr>\n",
       "    <tr>\n",
       "      <th>4</th>\n",
       "      <td>2218766</td>\n",
       "      <td>Acqua Di Parma</td>\n",
       "      <td>Perfume</td>\n",
       "      <td>Colonia Miniature Set</td>\n",
       "      <td>5 x 0.16oz/5mL</td>\n",
       "      <td>USD 72</td>\n",
       "      <td>3.5</td>\n",
       "      <td>Suggested Usage:-Fragrance is intensified by t...</td>\n",
       "      <td>1</td>\n",
       "      <td>0</td>\n",
       "    </tr>\n",
       "  </tbody>\n",
       "</table>\n",
       "</div>"
      ],
      "text/plain": [
       "        id           brand category                            name            size    price  rating                                         how_to_use  online_only  limited_edition\n",
       "0  2218774  Acqua Di Parma  Perfume  Blu Mediterraneo MINIATURE Set  5 x 0.16oz/5mL   USD 66     4.0  Suggested Usage:-Fragrance is intensified by t...            1                0\n",
       "1  2044816  Acqua Di Parma  Cologne                         Colonia   0.7 oz/ 20 mL   USD 66     4.5                                    no instructions            1                0\n",
       "2  1417567  Acqua Di Parma  Perfume                Arancia di Capri    5 oz/ 148 mL  USD 180     4.5                                    no instructions            1                0\n",
       "3  1417617  Acqua Di Parma  Perfume                Mirto di Panarea   2.5 oz/ 74 mL  USD 120     4.5                                    no instructions            1                0\n",
       "4  2218766  Acqua Di Parma  Perfume           Colonia Miniature Set  5 x 0.16oz/5mL   USD 72     3.5  Suggested Usage:-Fragrance is intensified by t...            1                0"
      ]
     },
     "execution_count": 503,
     "metadata": {},
     "output_type": "execute_result"
    }
   ],
   "source": [
    "cosm.head()"
   ]
  },
  {
   "cell_type": "code",
   "execution_count": 504,
   "metadata": {
    "dc": {
     "key": "4"
    }
   },
   "outputs": [],
   "source": [
    "# We do not need all these columns.\n",
    "cosm = cosm[['id', 'brand', 'category', 'price']]"
   ]
  },
  {
   "cell_type": "code",
   "execution_count": 505,
   "metadata": {
    "dc": {
     "key": "4"
    }
   },
   "outputs": [
    {
     "data": {
      "text/html": [
       "<div>\n",
       "<style scoped>\n",
       "    .dataframe tbody tr th:only-of-type {\n",
       "        vertical-align: middle;\n",
       "    }\n",
       "\n",
       "    .dataframe tbody tr th {\n",
       "        vertical-align: top;\n",
       "    }\n",
       "\n",
       "    .dataframe thead th {\n",
       "        text-align: right;\n",
       "    }\n",
       "</style>\n",
       "<table border=\"1\" class=\"dataframe\">\n",
       "  <thead>\n",
       "    <tr style=\"text-align: right;\">\n",
       "      <th></th>\n",
       "      <th>id</th>\n",
       "      <th>brand</th>\n",
       "      <th>category</th>\n",
       "      <th>price</th>\n",
       "    </tr>\n",
       "  </thead>\n",
       "  <tbody>\n",
       "    <tr>\n",
       "      <th>8627</th>\n",
       "      <td>2208502</td>\n",
       "      <td>SEPHORA COLLECTION</td>\n",
       "      <td>Face Masks</td>\n",
       "      <td>USD 6</td>\n",
       "    </tr>\n",
       "    <tr>\n",
       "      <th>8628</th>\n",
       "      <td>2298909</td>\n",
       "      <td>SEPHORA COLLECTION</td>\n",
       "      <td>Lip Sets</td>\n",
       "      <td>USD 15</td>\n",
       "    </tr>\n",
       "    <tr>\n",
       "      <th>8629</th>\n",
       "      <td>2236750</td>\n",
       "      <td>SEPHORA COLLECTION</td>\n",
       "      <td>Tinted Moisturizer</td>\n",
       "      <td>USD 16</td>\n",
       "    </tr>\n",
       "    <tr>\n",
       "      <th>8630</th>\n",
       "      <td>50</td>\n",
       "      <td>sephora collection</td>\n",
       "      <td>no category</td>\n",
       "      <td>USD 50</td>\n",
       "    </tr>\n",
       "    <tr>\n",
       "      <th>8631</th>\n",
       "      <td>304</td>\n",
       "      <td>SEPHORA COLLECTION</td>\n",
       "      <td>no category</td>\n",
       "      <td>USD 50</td>\n",
       "    </tr>\n",
       "  </tbody>\n",
       "</table>\n",
       "</div>"
      ],
      "text/plain": [
       "           id               brand            category   price\n",
       "8627  2208502  SEPHORA COLLECTION          Face Masks   USD 6\n",
       "8628  2298909  SEPHORA COLLECTION            Lip Sets  USD 15\n",
       "8629  2236750  SEPHORA COLLECTION  Tinted Moisturizer  USD 16\n",
       "8630       50  sephora collection         no category  USD 50\n",
       "8631      304  SEPHORA COLLECTION         no category  USD 50"
      ]
     },
     "execution_count": 505,
     "metadata": {},
     "output_type": "execute_result"
    }
   ],
   "source": [
    "cosm.tail()"
   ]
  },
  {
   "cell_type": "markdown",
   "metadata": {
    "dc": {
     "key": "4"
    }
   },
   "source": [
    "#### ! There are different 'capitalizations' of the brands ('SEPHORA COLLECTION' vs 'sephora collection')"
   ]
  },
  {
   "cell_type": "markdown",
   "metadata": {
    "dc": {
     "key": "4"
    }
   },
   "source": [
    "#### Ingredients table"
   ]
  },
  {
   "cell_type": "code",
   "execution_count": 506,
   "metadata": {
    "dc": {
     "key": "4"
    }
   },
   "outputs": [],
   "source": [
    "# Load table\n",
    "ingr = pd.read_table('datasets/ingredients.txt', sep='\\t')"
   ]
  },
  {
   "cell_type": "code",
   "execution_count": 507,
   "metadata": {
    "dc": {
     "key": "4"
    }
   },
   "outputs": [
    {
     "name": "stdout",
     "output_type": "stream",
     "text": [
      "<class 'pandas.core.frame.DataFrame'>\n",
      "RangeIndex: 8632 entries, 0 to 8631\n",
      "Data columns (total 2 columns):\n",
      " #   Column       Non-Null Count  Dtype \n",
      "---  ------       --------------  ----- \n",
      " 0   product_id   8632 non-null   int64 \n",
      " 1   ingredients  8632 non-null   object\n",
      "dtypes: int64(1), object(1)\n",
      "memory usage: 135.0+ KB\n"
     ]
    }
   ],
   "source": [
    "ingr.info()"
   ]
  },
  {
   "cell_type": "code",
   "execution_count": 508,
   "metadata": {
    "dc": {
     "key": "4"
    }
   },
   "outputs": [
    {
     "data": {
      "text/html": [
       "<div>\n",
       "<style scoped>\n",
       "    .dataframe tbody tr th:only-of-type {\n",
       "        vertical-align: middle;\n",
       "    }\n",
       "\n",
       "    .dataframe tbody tr th {\n",
       "        vertical-align: top;\n",
       "    }\n",
       "\n",
       "    .dataframe thead th {\n",
       "        text-align: right;\n",
       "    }\n",
       "</style>\n",
       "<table border=\"1\" class=\"dataframe\">\n",
       "  <thead>\n",
       "    <tr style=\"text-align: right;\">\n",
       "      <th></th>\n",
       "      <th>product_id</th>\n",
       "      <th>ingredients</th>\n",
       "    </tr>\n",
       "  </thead>\n",
       "  <tbody>\n",
       "    <tr>\n",
       "      <th>0</th>\n",
       "      <td>2218774</td>\n",
       "      <td>Arancia di Capri Eau de Toilette: Alcohol Dena...</td>\n",
       "    </tr>\n",
       "    <tr>\n",
       "      <th>1</th>\n",
       "      <td>2044816</td>\n",
       "      <td>unknown</td>\n",
       "    </tr>\n",
       "    <tr>\n",
       "      <th>2</th>\n",
       "      <td>1417567</td>\n",
       "      <td>Alcohol Denat.- Water- Fragrance- Limonene- Li...</td>\n",
       "    </tr>\n",
       "    <tr>\n",
       "      <th>3</th>\n",
       "      <td>1417617</td>\n",
       "      <td>unknown</td>\n",
       "    </tr>\n",
       "    <tr>\n",
       "      <th>4</th>\n",
       "      <td>2218766</td>\n",
       "      <td>Colonia: Alcohol Denat.- Water- Fragrance- Lim...</td>\n",
       "    </tr>\n",
       "  </tbody>\n",
       "</table>\n",
       "</div>"
      ],
      "text/plain": [
       "   product_id                                        ingredients\n",
       "0     2218774  Arancia di Capri Eau de Toilette: Alcohol Dena...\n",
       "1     2044816                                            unknown\n",
       "2     1417567  Alcohol Denat.- Water- Fragrance- Limonene- Li...\n",
       "3     1417617                                            unknown\n",
       "4     2218766  Colonia: Alcohol Denat.- Water- Fragrance- Lim..."
      ]
     },
     "execution_count": 508,
     "metadata": {},
     "output_type": "execute_result"
    }
   ],
   "source": [
    "ingr.head()"
   ]
  },
  {
   "cell_type": "markdown",
   "metadata": {
    "dc": {
     "key": "4"
    }
   },
   "source": [
    "#### Let's check if product ids are identical for these two datasets"
   ]
  },
  {
   "cell_type": "code",
   "execution_count": 509,
   "metadata": {
    "dc": {
     "key": "4"
    }
   },
   "outputs": [
    {
     "data": {
      "text/plain": [
       "True"
      ]
     },
     "execution_count": 509,
     "metadata": {},
     "output_type": "execute_result"
    }
   ],
   "source": [
    "(set(cosm.id) == set(ingr.product_id)) & (len(cosm.id) == len(ingr.product_id))"
   ]
  },
  {
   "cell_type": "markdown",
   "metadata": {
    "dc": {
     "key": "4"
    }
   },
   "source": [
    "#### Subcategories dictionary table"
   ]
  },
  {
   "cell_type": "code",
   "execution_count": 510,
   "metadata": {
    "dc": {
     "key": "4"
    }
   },
   "outputs": [],
   "source": [
    "# Load table\n",
    "subs = pd.read_csv('datasets/cosmetics_categories.csv')"
   ]
  },
  {
   "cell_type": "code",
   "execution_count": 511,
   "metadata": {
    "dc": {
     "key": "4"
    }
   },
   "outputs": [
    {
     "name": "stdout",
     "output_type": "stream",
     "text": [
      "<class 'pandas.core.frame.DataFrame'>\n",
      "RangeIndex: 17 entries, 0 to 16\n",
      "Data columns (total 2 columns):\n",
      " #   Column          Non-Null Count  Dtype \n",
      "---  ------          --------------  ----- \n",
      " 0   sub_category    17 non-null     object\n",
      " 1   broad_category  17 non-null     object\n",
      "dtypes: object(2)\n",
      "memory usage: 400.0+ bytes\n"
     ]
    }
   ],
   "source": [
    "subs.info()"
   ]
  },
  {
   "cell_type": "code",
   "execution_count": 512,
   "metadata": {
    "dc": {
     "key": "4"
    }
   },
   "outputs": [
    {
     "data": {
      "text/html": [
       "<div>\n",
       "<style scoped>\n",
       "    .dataframe tbody tr th:only-of-type {\n",
       "        vertical-align: middle;\n",
       "    }\n",
       "\n",
       "    .dataframe tbody tr th {\n",
       "        vertical-align: top;\n",
       "    }\n",
       "\n",
       "    .dataframe thead th {\n",
       "        text-align: right;\n",
       "    }\n",
       "</style>\n",
       "<table border=\"1\" class=\"dataframe\">\n",
       "  <thead>\n",
       "    <tr style=\"text-align: right;\">\n",
       "      <th></th>\n",
       "      <th>sub_category</th>\n",
       "      <th>broad_category</th>\n",
       "    </tr>\n",
       "  </thead>\n",
       "  <tbody>\n",
       "    <tr>\n",
       "      <th>0</th>\n",
       "      <td>Cologne</td>\n",
       "      <td>Fragrance</td>\n",
       "    </tr>\n",
       "    <tr>\n",
       "      <th>1</th>\n",
       "      <td>Perfume</td>\n",
       "      <td>Fragrance</td>\n",
       "    </tr>\n",
       "    <tr>\n",
       "      <th>2</th>\n",
       "      <td>Eye Palettes</td>\n",
       "      <td>Makeup</td>\n",
       "    </tr>\n",
       "    <tr>\n",
       "      <th>3</th>\n",
       "      <td>Lipstick</td>\n",
       "      <td>Makeup</td>\n",
       "    </tr>\n",
       "    <tr>\n",
       "      <th>4</th>\n",
       "      <td>Highlighter</td>\n",
       "      <td>Makeup</td>\n",
       "    </tr>\n",
       "  </tbody>\n",
       "</table>\n",
       "</div>"
      ],
      "text/plain": [
       "   sub_category broad_category\n",
       "0       Cologne      Fragrance\n",
       "1       Perfume      Fragrance\n",
       "2  Eye Palettes         Makeup\n",
       "3      Lipstick         Makeup\n",
       "4   Highlighter         Makeup"
      ]
     },
     "execution_count": 512,
     "metadata": {},
     "output_type": "execute_result"
    }
   ],
   "source": [
    "subs.head()"
   ]
  },
  {
   "cell_type": "code",
   "execution_count": 513,
   "metadata": {
    "dc": {
     "key": "4"
    }
   },
   "outputs": [
    {
     "data": {
      "text/plain": [
       "array(['Fragrance', 'Makeup', 'Skincare'], dtype=object)"
      ]
     },
     "execution_count": 513,
     "metadata": {},
     "output_type": "execute_result"
    }
   ],
   "source": [
    "# Unique categories\n",
    "subs.broad_category.unique()"
   ]
  },
  {
   "cell_type": "code",
   "execution_count": 514,
   "metadata": {
    "dc": {
     "key": "4"
    }
   },
   "outputs": [
    {
     "data": {
      "text/plain": [
       "17"
      ]
     },
     "execution_count": 514,
     "metadata": {},
     "output_type": "execute_result"
    }
   ],
   "source": [
    "# Number of unique sucategories\n",
    "subs.sub_category.nunique()"
   ]
  },
  {
   "cell_type": "code",
   "execution_count": 515,
   "metadata": {
    "dc": {
     "key": "4"
    }
   },
   "outputs": [
    {
     "data": {
      "text/plain": [
       "138"
      ]
     },
     "execution_count": 515,
     "metadata": {},
     "output_type": "execute_result"
    }
   ],
   "source": [
    "# Number of unique subcategories in the main dataset (cosmetic)\n",
    "cosm.category.nunique()"
   ]
  },
  {
   "cell_type": "code",
   "execution_count": 516,
   "metadata": {
    "dc": {
     "key": "4"
    }
   },
   "outputs": [
    {
     "data": {
      "text/plain": [
       "True"
      ]
     },
     "execution_count": 516,
     "metadata": {},
     "output_type": "execute_result"
    }
   ],
   "source": [
    "set(cosm.category).intersection(set(subs.sub_category)) == set(subs.sub_category)"
   ]
  },
  {
   "cell_type": "markdown",
   "metadata": {
    "dc": {
     "key": "4"
    }
   },
   "source": [
    "#### Thus, there are all sub_categories from cosmetics_categories datasets in cosmetics dataset"
   ]
  },
  {
   "cell_type": "code",
   "execution_count": 517,
   "metadata": {
    "dc": {
     "key": "4"
    }
   },
   "outputs": [
    {
     "data": {
      "text/plain": [
       "{'Makeup'}"
      ]
     },
     "execution_count": 517,
     "metadata": {},
     "output_type": "execute_result"
    }
   ],
   "source": [
    "set(cosm.category).intersection(set(subs.broad_category))"
   ]
  },
  {
   "cell_type": "markdown",
   "metadata": {
    "dc": {
     "key": "4"
    }
   },
   "source": [
    "Alse, there is 'Makeup' category in cosmetics dataset."
   ]
  },
  {
   "cell_type": "markdown",
   "metadata": {
    "dc": {
     "key": "4"
    }
   },
   "source": [
    "### Conclusion: there are no NANs in datasets, all fields for joins are consistent."
   ]
  },
  {
   "cell_type": "markdown",
   "metadata": {
    "dc": {
     "key": "4"
    }
   },
   "source": [
    "### 2. Let's start from a data reduction task:\n",
    "Exclude any products containing the toxic ingredient \"toluene\" from your analysis. Assume products with no ingredient information do not contain \"toluene\"."
   ]
  },
  {
   "cell_type": "code",
   "execution_count": 518,
   "metadata": {
    "dc": {
     "key": "4"
    }
   },
   "outputs": [],
   "source": [
    "# Find the toxic products\n",
    "ingr['is_toxic'] = ingr.ingredients.apply(lambda x: x.lower().find(\"toluene\") >= 0)"
   ]
  },
  {
   "cell_type": "code",
   "execution_count": 519,
   "metadata": {
    "dc": {
     "key": "4"
    }
   },
   "outputs": [
    {
     "data": {
      "text/html": [
       "<div>\n",
       "<style scoped>\n",
       "    .dataframe tbody tr th:only-of-type {\n",
       "        vertical-align: middle;\n",
       "    }\n",
       "\n",
       "    .dataframe tbody tr th {\n",
       "        vertical-align: top;\n",
       "    }\n",
       "\n",
       "    .dataframe thead th {\n",
       "        text-align: right;\n",
       "    }\n",
       "</style>\n",
       "<table border=\"1\" class=\"dataframe\">\n",
       "  <thead>\n",
       "    <tr style=\"text-align: right;\">\n",
       "      <th></th>\n",
       "      <th>product_id</th>\n",
       "      <th>ingredients</th>\n",
       "      <th>is_toxic</th>\n",
       "    </tr>\n",
       "  </thead>\n",
       "  <tbody>\n",
       "    <tr>\n",
       "      <th>0</th>\n",
       "      <td>2218774</td>\n",
       "      <td>Arancia di Capri Eau de Toilette: Alcohol Dena...</td>\n",
       "      <td>False</td>\n",
       "    </tr>\n",
       "    <tr>\n",
       "      <th>1</th>\n",
       "      <td>2044816</td>\n",
       "      <td>unknown</td>\n",
       "      <td>False</td>\n",
       "    </tr>\n",
       "    <tr>\n",
       "      <th>2</th>\n",
       "      <td>1417567</td>\n",
       "      <td>Alcohol Denat.- Water- Fragrance- Limonene- Li...</td>\n",
       "      <td>False</td>\n",
       "    </tr>\n",
       "    <tr>\n",
       "      <th>3</th>\n",
       "      <td>1417617</td>\n",
       "      <td>unknown</td>\n",
       "      <td>False</td>\n",
       "    </tr>\n",
       "    <tr>\n",
       "      <th>4</th>\n",
       "      <td>2218766</td>\n",
       "      <td>Colonia: Alcohol Denat.- Water- Fragrance- Lim...</td>\n",
       "      <td>False</td>\n",
       "    </tr>\n",
       "  </tbody>\n",
       "</table>\n",
       "</div>"
      ],
      "text/plain": [
       "   product_id                                        ingredients  is_toxic\n",
       "0     2218774  Arancia di Capri Eau de Toilette: Alcohol Dena...     False\n",
       "1     2044816                                            unknown     False\n",
       "2     1417567  Alcohol Denat.- Water- Fragrance- Limonene- Li...     False\n",
       "3     1417617                                            unknown     False\n",
       "4     2218766  Colonia: Alcohol Denat.- Water- Fragrance- Lim...     False"
      ]
     },
     "execution_count": 519,
     "metadata": {},
     "output_type": "execute_result"
    }
   ],
   "source": [
    "ingr.head()"
   ]
  },
  {
   "cell_type": "code",
   "execution_count": 520,
   "metadata": {
    "dc": {
     "key": "4"
    }
   },
   "outputs": [
    {
     "name": "stdout",
     "output_type": "stream",
     "text": [
      "The share of toxic products is 13.97%\n"
     ]
    }
   ],
   "source": [
    "print(f'The share of toxic products is {ingr[\"is_toxic\"].sum()/ingr.shape[0]*100:.2f}%')"
   ]
  },
  {
   "cell_type": "code",
   "execution_count": 521,
   "metadata": {
    "dc": {
     "key": "4"
    }
   },
   "outputs": [],
   "source": [
    "# Derive the toxic product ids from the ingredients dataset and filter the cosmetic table:\n",
    "toxic_ids = ingr.loc[ingr.is_toxic, 'product_id'].values\n",
    "cosm = cosm[~cosm.id.isin(toxic_ids)]"
   ]
  },
  {
   "cell_type": "code",
   "execution_count": 522,
   "metadata": {
    "dc": {
     "key": "4"
    }
   },
   "outputs": [
    {
     "data": {
      "text/plain": [
       "(7426, 4)"
      ]
     },
     "execution_count": 522,
     "metadata": {},
     "output_type": "execute_result"
    }
   ],
   "source": [
    "cosm.shape"
   ]
  },
  {
   "cell_type": "markdown",
   "metadata": {
    "dc": {
     "key": "4"
    }
   },
   "source": [
    "### 3. Let's filter by categories:\n",
    "The data available is unprocessed as received from Sephora. The start-up requests the categories...     \n",
    "There are 17 sub categories from cosmetics_categories dataset "
   ]
  },
  {
   "cell_type": "code",
   "execution_count": 523,
   "metadata": {
    "dc": {
     "key": "4"
    }
   },
   "outputs": [],
   "source": [
    "# It should be merged right to exclude not required categories\n",
    "cosm = cosm.merge(subs, how='right', left_on='category', right_on='sub_category')"
   ]
  },
  {
   "cell_type": "code",
   "execution_count": 524,
   "metadata": {
    "dc": {
     "key": "4"
    }
   },
   "outputs": [
    {
     "data": {
      "text/html": [
       "<div>\n",
       "<style scoped>\n",
       "    .dataframe tbody tr th:only-of-type {\n",
       "        vertical-align: middle;\n",
       "    }\n",
       "\n",
       "    .dataframe tbody tr th {\n",
       "        vertical-align: top;\n",
       "    }\n",
       "\n",
       "    .dataframe thead th {\n",
       "        text-align: right;\n",
       "    }\n",
       "</style>\n",
       "<table border=\"1\" class=\"dataframe\">\n",
       "  <thead>\n",
       "    <tr style=\"text-align: right;\">\n",
       "      <th></th>\n",
       "      <th>id</th>\n",
       "      <th>brand</th>\n",
       "      <th>category</th>\n",
       "      <th>price</th>\n",
       "      <th>sub_category</th>\n",
       "      <th>broad_category</th>\n",
       "    </tr>\n",
       "  </thead>\n",
       "  <tbody>\n",
       "    <tr>\n",
       "      <th>0</th>\n",
       "      <td>2044816</td>\n",
       "      <td>Acqua Di Parma</td>\n",
       "      <td>Cologne</td>\n",
       "      <td>USD 66</td>\n",
       "      <td>Cologne</td>\n",
       "      <td>Fragrance</td>\n",
       "    </tr>\n",
       "    <tr>\n",
       "      <th>1</th>\n",
       "      <td>1284462</td>\n",
       "      <td>Acqua Di Parma</td>\n",
       "      <td>Cologne</td>\n",
       "      <td>USD 120</td>\n",
       "      <td>Cologne</td>\n",
       "      <td>Fragrance</td>\n",
       "    </tr>\n",
       "    <tr>\n",
       "      <th>2</th>\n",
       "      <td>1059500</td>\n",
       "      <td>Acqua Di Parma</td>\n",
       "      <td>Cologne</td>\n",
       "      <td>USD 120</td>\n",
       "      <td>Cologne</td>\n",
       "      <td>Fragrance</td>\n",
       "    </tr>\n",
       "    <tr>\n",
       "      <th>3</th>\n",
       "      <td>1915396</td>\n",
       "      <td>ACQUA DI PARMA</td>\n",
       "      <td>Cologne</td>\n",
       "      <td>USD 245</td>\n",
       "      <td>Cologne</td>\n",
       "      <td>Fragrance</td>\n",
       "    </tr>\n",
       "    <tr>\n",
       "      <th>4</th>\n",
       "      <td>1775055</td>\n",
       "      <td>Acqua Di Parma</td>\n",
       "      <td>Cologne</td>\n",
       "      <td>USD 120</td>\n",
       "      <td>Cologne</td>\n",
       "      <td>Fragrance</td>\n",
       "    </tr>\n",
       "  </tbody>\n",
       "</table>\n",
       "</div>"
      ],
      "text/plain": [
       "        id           brand category    price sub_category broad_category\n",
       "0  2044816  Acqua Di Parma  Cologne   USD 66      Cologne      Fragrance\n",
       "1  1284462  Acqua Di Parma  Cologne  USD 120      Cologne      Fragrance\n",
       "2  1059500  Acqua Di Parma  Cologne  USD 120      Cologne      Fragrance\n",
       "3  1915396  ACQUA DI PARMA  Cologne  USD 245      Cologne      Fragrance\n",
       "4  1775055  Acqua Di Parma  Cologne  USD 120      Cologne      Fragrance"
      ]
     },
     "execution_count": 524,
     "metadata": {},
     "output_type": "execute_result"
    }
   ],
   "source": [
    "cosm.head()"
   ]
  },
  {
   "cell_type": "code",
   "execution_count": 525,
   "metadata": {
    "dc": {
     "key": "4"
    }
   },
   "outputs": [
    {
     "data": {
      "text/plain": [
       "array(['Fragrance', 'Makeup', 'Skincare'], dtype=object)"
      ]
     },
     "execution_count": 525,
     "metadata": {},
     "output_type": "execute_result"
    }
   ],
   "source": [
    "cosm.broad_category.unique()"
   ]
  },
  {
   "cell_type": "code",
   "execution_count": 526,
   "metadata": {
    "dc": {
     "key": "4"
    }
   },
   "outputs": [],
   "source": [
    "# Rid off the rudimentary columns\n",
    "cosm.drop(columns=['category', 'sub_category'], inplace=True)\n",
    "cosm.rename(columns={'broad_category': 'category'}, inplace=True)"
   ]
  },
  {
   "cell_type": "code",
   "execution_count": 527,
   "metadata": {
    "dc": {
     "key": "4"
    }
   },
   "outputs": [
    {
     "data": {
      "text/html": [
       "<div>\n",
       "<style scoped>\n",
       "    .dataframe tbody tr th:only-of-type {\n",
       "        vertical-align: middle;\n",
       "    }\n",
       "\n",
       "    .dataframe tbody tr th {\n",
       "        vertical-align: top;\n",
       "    }\n",
       "\n",
       "    .dataframe thead th {\n",
       "        text-align: right;\n",
       "    }\n",
       "</style>\n",
       "<table border=\"1\" class=\"dataframe\">\n",
       "  <thead>\n",
       "    <tr style=\"text-align: right;\">\n",
       "      <th></th>\n",
       "      <th>id</th>\n",
       "      <th>brand</th>\n",
       "      <th>price</th>\n",
       "      <th>category</th>\n",
       "    </tr>\n",
       "  </thead>\n",
       "  <tbody>\n",
       "    <tr>\n",
       "      <th>0</th>\n",
       "      <td>2044816</td>\n",
       "      <td>Acqua Di Parma</td>\n",
       "      <td>USD 66</td>\n",
       "      <td>Fragrance</td>\n",
       "    </tr>\n",
       "    <tr>\n",
       "      <th>1</th>\n",
       "      <td>1284462</td>\n",
       "      <td>Acqua Di Parma</td>\n",
       "      <td>USD 120</td>\n",
       "      <td>Fragrance</td>\n",
       "    </tr>\n",
       "    <tr>\n",
       "      <th>2</th>\n",
       "      <td>1059500</td>\n",
       "      <td>Acqua Di Parma</td>\n",
       "      <td>USD 120</td>\n",
       "      <td>Fragrance</td>\n",
       "    </tr>\n",
       "    <tr>\n",
       "      <th>3</th>\n",
       "      <td>1915396</td>\n",
       "      <td>ACQUA DI PARMA</td>\n",
       "      <td>USD 245</td>\n",
       "      <td>Fragrance</td>\n",
       "    </tr>\n",
       "    <tr>\n",
       "      <th>4</th>\n",
       "      <td>1775055</td>\n",
       "      <td>Acqua Di Parma</td>\n",
       "      <td>USD 120</td>\n",
       "      <td>Fragrance</td>\n",
       "    </tr>\n",
       "  </tbody>\n",
       "</table>\n",
       "</div>"
      ],
      "text/plain": [
       "        id           brand    price   category\n",
       "0  2044816  Acqua Di Parma   USD 66  Fragrance\n",
       "1  1284462  Acqua Di Parma  USD 120  Fragrance\n",
       "2  1059500  Acqua Di Parma  USD 120  Fragrance\n",
       "3  1915396  ACQUA DI PARMA  USD 245  Fragrance\n",
       "4  1775055  Acqua Di Parma  USD 120  Fragrance"
      ]
     },
     "execution_count": 527,
     "metadata": {},
     "output_type": "execute_result"
    }
   ],
   "source": [
    "cosm.head()"
   ]
  },
  {
   "cell_type": "markdown",
   "metadata": {
    "dc": {
     "key": "4"
    }
   },
   "source": [
    "### 4. Let's select the brands:\n",
    "Currently, it is unclear who the primary competitors are. Find the top four brands by the combined number of fragrance, makeup, and skincare products produced."
   ]
  },
  {
   "cell_type": "code",
   "execution_count": 528,
   "metadata": {
    "dc": {
     "key": "4"
    }
   },
   "outputs": [],
   "source": [
    "# We have found that 'capitalisation' for brands' names aren't consistent\n",
    "cosm.brand = cosm.brand.str.capitalize()"
   ]
  },
  {
   "cell_type": "code",
   "execution_count": 529,
   "metadata": {
    "dc": {
     "key": "4"
    }
   },
   "outputs": [
    {
     "data": {
      "text/plain": [
       "Clinique              112\n",
       "Sephora collection    105\n",
       "Tom ford              102\n",
       "Dior                   94\n",
       "Name: brand, dtype: int64"
      ]
     },
     "execution_count": 529,
     "metadata": {},
     "output_type": "execute_result"
    }
   ],
   "source": [
    "# There are two ways to find the largest brands\n",
    "# The first way:\n",
    "cosm.brand.value_counts()[:4]"
   ]
  },
  {
   "cell_type": "code",
   "execution_count": 530,
   "metadata": {
    "dc": {
     "key": "4"
    }
   },
   "outputs": [
    {
     "data": {
      "text/plain": [
       "brand\n",
       "Clinique              112\n",
       "Sephora collection    105\n",
       "Tom ford              102\n",
       "Dior                   94\n",
       "Name: id, dtype: int64"
      ]
     },
     "execution_count": 530,
     "metadata": {},
     "output_type": "execute_result"
    }
   ],
   "source": [
    "# The second way\n",
    "largest_brands = cosm.groupby('brand')['id'].count().nlargest(4)\n",
    "largest_brands"
   ]
  },
  {
   "cell_type": "code",
   "execution_count": 531,
   "metadata": {
    "dc": {
     "key": "4"
    }
   },
   "outputs": [
    {
     "data": {
      "text/plain": [
       "{'Clinique', 'Dior', 'Sephora collection', 'Tom ford'}"
      ]
     },
     "execution_count": 531,
     "metadata": {},
     "output_type": "execute_result"
    }
   ],
   "source": [
    "# Derive the largest brands as a set\n",
    "largest_brands = set(largest_brands.index)\n",
    "largest_brands"
   ]
  },
  {
   "cell_type": "code",
   "execution_count": 532,
   "metadata": {
    "dc": {
     "key": "4"
    }
   },
   "outputs": [],
   "source": [
    "# Filter the main table\n",
    "cosm = cosm[cosm.brand.isin(largest_brands)]"
   ]
  },
  {
   "cell_type": "code",
   "execution_count": 533,
   "metadata": {
    "dc": {
     "key": "4"
    }
   },
   "outputs": [
    {
     "data": {
      "text/plain": [
       "(413, 4)"
      ]
     },
     "execution_count": 533,
     "metadata": {},
     "output_type": "execute_result"
    }
   ],
   "source": [
    "cosm.shape"
   ]
  },
  {
   "cell_type": "code",
   "execution_count": 534,
   "metadata": {
    "dc": {
     "key": "4"
    }
   },
   "outputs": [
    {
     "data": {
      "text/html": [
       "<div>\n",
       "<style scoped>\n",
       "    .dataframe tbody tr th:only-of-type {\n",
       "        vertical-align: middle;\n",
       "    }\n",
       "\n",
       "    .dataframe tbody tr th {\n",
       "        vertical-align: top;\n",
       "    }\n",
       "\n",
       "    .dataframe thead th {\n",
       "        text-align: right;\n",
       "    }\n",
       "</style>\n",
       "<table border=\"1\" class=\"dataframe\">\n",
       "  <thead>\n",
       "    <tr style=\"text-align: right;\">\n",
       "      <th></th>\n",
       "      <th>id</th>\n",
       "      <th>brand</th>\n",
       "      <th>price</th>\n",
       "      <th>category</th>\n",
       "    </tr>\n",
       "  </thead>\n",
       "  <tbody>\n",
       "    <tr>\n",
       "      <th>46</th>\n",
       "      <td>346494</td>\n",
       "      <td>Clinique</td>\n",
       "      <td>USD 52</td>\n",
       "      <td>Fragrance</td>\n",
       "    </tr>\n",
       "    <tr>\n",
       "      <th>47</th>\n",
       "      <td>1739317</td>\n",
       "      <td>Dior</td>\n",
       "      <td>EUR 63</td>\n",
       "      <td>Fragrance</td>\n",
       "    </tr>\n",
       "    <tr>\n",
       "      <th>48</th>\n",
       "      <td>2038123</td>\n",
       "      <td>Dior</td>\n",
       "      <td>EUR 77</td>\n",
       "      <td>Fragrance</td>\n",
       "    </tr>\n",
       "    <tr>\n",
       "      <th>49</th>\n",
       "      <td>2310530</td>\n",
       "      <td>Dior</td>\n",
       "      <td>EUR 61</td>\n",
       "      <td>Fragrance</td>\n",
       "    </tr>\n",
       "    <tr>\n",
       "      <th>50</th>\n",
       "      <td>83246</td>\n",
       "      <td>Dior</td>\n",
       "      <td>EUR 61</td>\n",
       "      <td>Fragrance</td>\n",
       "    </tr>\n",
       "  </tbody>\n",
       "</table>\n",
       "</div>"
      ],
      "text/plain": [
       "         id     brand   price   category\n",
       "46   346494  Clinique  USD 52  Fragrance\n",
       "47  1739317      Dior  EUR 63  Fragrance\n",
       "48  2038123      Dior  EUR 77  Fragrance\n",
       "49  2310530      Dior  EUR 61  Fragrance\n",
       "50    83246      Dior  EUR 61  Fragrance"
      ]
     },
     "execution_count": 534,
     "metadata": {},
     "output_type": "execute_result"
    }
   ],
   "source": [
    "cosm.head()"
   ]
  },
  {
   "cell_type": "markdown",
   "metadata": {
    "dc": {
     "key": "4"
    }
   },
   "source": [
    "### 5. Time for FX:\n",
    "Product prices should be compared in USD. Below are the conversions for currencies found in the dataset:\n",
    "\n",
    "1 EUR = 1.22 USD\n",
    "1 GBP = 1.42 USD\n",
    "1 Yen = 0.01 USD"
   ]
  },
  {
   "cell_type": "code",
   "execution_count": 535,
   "metadata": {
    "dc": {
     "key": "4"
    }
   },
   "outputs": [],
   "source": [
    "# helper function\n",
    "exchange_rate = {'EUR': 1.22, 'GBP': 1.42, 'Yen': 0.01, 'USD': 1}\n",
    "def converter(x: str) -> float:\n",
    "    \"\"\"Convert string price from a format like 'EUR 34' to the float value in USD \n",
    "    accordingly to the exchange_rate dictionary \"\"\"\n",
    "    currency, value = x.split()\n",
    "    value = float(value)\n",
    "    return value * exchange_rate[currency]"
   ]
  },
  {
   "cell_type": "code",
   "execution_count": 536,
   "metadata": {
    "dc": {
     "key": "4"
    }
   },
   "outputs": [],
   "source": [
    "# apply convertations\n",
    "cosm.price = cosm.price.apply(converter)"
   ]
  },
  {
   "cell_type": "code",
   "execution_count": 537,
   "metadata": {
    "dc": {
     "key": "4"
    }
   },
   "outputs": [
    {
     "data": {
      "text/html": [
       "<div>\n",
       "<style scoped>\n",
       "    .dataframe tbody tr th:only-of-type {\n",
       "        vertical-align: middle;\n",
       "    }\n",
       "\n",
       "    .dataframe tbody tr th {\n",
       "        vertical-align: top;\n",
       "    }\n",
       "\n",
       "    .dataframe thead th {\n",
       "        text-align: right;\n",
       "    }\n",
       "</style>\n",
       "<table border=\"1\" class=\"dataframe\">\n",
       "  <thead>\n",
       "    <tr style=\"text-align: right;\">\n",
       "      <th></th>\n",
       "      <th>id</th>\n",
       "      <th>brand</th>\n",
       "      <th>price</th>\n",
       "      <th>category</th>\n",
       "    </tr>\n",
       "  </thead>\n",
       "  <tbody>\n",
       "    <tr>\n",
       "      <th>46</th>\n",
       "      <td>346494</td>\n",
       "      <td>Clinique</td>\n",
       "      <td>52.00</td>\n",
       "      <td>Fragrance</td>\n",
       "    </tr>\n",
       "    <tr>\n",
       "      <th>47</th>\n",
       "      <td>1739317</td>\n",
       "      <td>Dior</td>\n",
       "      <td>76.86</td>\n",
       "      <td>Fragrance</td>\n",
       "    </tr>\n",
       "    <tr>\n",
       "      <th>48</th>\n",
       "      <td>2038123</td>\n",
       "      <td>Dior</td>\n",
       "      <td>93.94</td>\n",
       "      <td>Fragrance</td>\n",
       "    </tr>\n",
       "    <tr>\n",
       "      <th>49</th>\n",
       "      <td>2310530</td>\n",
       "      <td>Dior</td>\n",
       "      <td>74.42</td>\n",
       "      <td>Fragrance</td>\n",
       "    </tr>\n",
       "    <tr>\n",
       "      <th>50</th>\n",
       "      <td>83246</td>\n",
       "      <td>Dior</td>\n",
       "      <td>74.42</td>\n",
       "      <td>Fragrance</td>\n",
       "    </tr>\n",
       "  </tbody>\n",
       "</table>\n",
       "</div>"
      ],
      "text/plain": [
       "         id     brand  price   category\n",
       "46   346494  Clinique  52.00  Fragrance\n",
       "47  1739317      Dior  76.86  Fragrance\n",
       "48  2038123      Dior  93.94  Fragrance\n",
       "49  2310530      Dior  74.42  Fragrance\n",
       "50    83246      Dior  74.42  Fragrance"
      ]
     },
     "execution_count": 537,
     "metadata": {},
     "output_type": "execute_result"
    }
   ],
   "source": [
    "cosm.head()"
   ]
  },
  {
   "cell_type": "markdown",
   "metadata": {
    "dc": {
     "key": "4"
    }
   },
   "source": [
    "### 6. Final step: building the pivot table for the brands' average price"
   ]
  },
  {
   "cell_type": "code",
   "execution_count": 538,
   "metadata": {
    "dc": {
     "key": "4"
    },
    "scrolled": true
   },
   "outputs": [
    {
     "data": {
      "text/html": [
       "<div>\n",
       "<style scoped>\n",
       "    .dataframe tbody tr th:only-of-type {\n",
       "        vertical-align: middle;\n",
       "    }\n",
       "\n",
       "    .dataframe tbody tr th {\n",
       "        vertical-align: top;\n",
       "    }\n",
       "\n",
       "    .dataframe thead th {\n",
       "        text-align: right;\n",
       "    }\n",
       "</style>\n",
       "<table border=\"1\" class=\"dataframe\">\n",
       "  <thead>\n",
       "    <tr style=\"text-align: right;\">\n",
       "      <th></th>\n",
       "      <th>Fragrance</th>\n",
       "      <th>Makeup</th>\n",
       "      <th>Skincare</th>\n",
       "    </tr>\n",
       "  </thead>\n",
       "  <tbody>\n",
       "    <tr>\n",
       "      <th>Clinique</th>\n",
       "      <td>58.00</td>\n",
       "      <td>24.08</td>\n",
       "      <td>36.90</td>\n",
       "    </tr>\n",
       "    <tr>\n",
       "      <th>Dior</th>\n",
       "      <td>92.85</td>\n",
       "      <td>39.12</td>\n",
       "      <td>88.08</td>\n",
       "    </tr>\n",
       "    <tr>\n",
       "      <th>Sephora collection</th>\n",
       "      <td>17.00</td>\n",
       "      <td>16.83</td>\n",
       "      <td>10.04</td>\n",
       "    </tr>\n",
       "    <tr>\n",
       "      <th>Tom ford</th>\n",
       "      <td>182.70</td>\n",
       "      <td>61.35</td>\n",
       "      <td>74.86</td>\n",
       "    </tr>\n",
       "  </tbody>\n",
       "</table>\n",
       "</div>"
      ],
      "text/plain": [
       "                    Fragrance  Makeup  Skincare\n",
       "Clinique                58.00   24.08     36.90\n",
       "Dior                    92.85   39.12     88.08\n",
       "Sephora collection      17.00   16.83     10.04\n",
       "Tom ford               182.70   61.35     74.86"
      ]
     },
     "execution_count": 538,
     "metadata": {},
     "output_type": "execute_result"
    }
   ],
   "source": [
    "brand_prices = pd.pivot_table(cosm,\n",
    "                              index='brand',\n",
    "                              columns='category',\n",
    "                              values='price',\n",
    "                             aggfunc =np.mean)\n",
    "brand_prices = brand_prices.round(2)\n",
    "brand_prices = brand_prices.sort_values('brand')\n",
    "brand_prices.columns.name = None\n",
    "brand_prices.index.name = None\n",
    "brand_prices"
   ]
  },
  {
   "cell_type": "markdown",
   "metadata": {
    "dc": {
     "key": "4"
    }
   },
   "source": [
    "### 7. Bonus: the result visualization"
   ]
  },
  {
   "cell_type": "code",
   "execution_count": 539,
   "metadata": {
    "dc": {
     "key": "4"
    }
   },
   "outputs": [
    {
     "data": {
      "image/png": "[encoded data removed]",
      "text/plain": [
       "<Figure size 432x288 with 2 Axes>"
      ]
     },
     "metadata": {
      "needs_background": "light"
     },
     "output_type": "display_data"
    }
   ],
   "source": [
    "import seaborn as sns\n",
    "import matplotlib.pyplot as plt\n",
    "\n",
    "sns.heatmap(brand_prices, annot=True, fmt='.2f', cmap='GnBu')\n",
    "plt.xlabel('Product Category')\n",
    "plt.ylabel('Brand')\n",
    "plt.title('Average price')\n",
    "plt.show()"
   ]
  },
  {
   "cell_type": "code",
   "execution_count": 540,
   "metadata": {
    "dc": {
     "key": "4"
    },
    "hide": true,
    "tags": [
     "tests"
    ]
   },
   "outputs": [
    {
     "data": {
      "application/json": "{\"success\": true, \"summary\": {\"tests\": 1, \"failures\": 0, \"errors\": 0}, \"tests\": [{\"name\": \"__main__.test_project\", \"success\": true, \"message\": \"\"}]}"
     },
     "metadata": {},
     "output_type": "display_data"
    },
    {
     "data": {
      "text/plain": [
       "1/1 tests passed\n"
      ]
     },
     "execution_count": 540,
     "metadata": {},
     "output_type": "execute_result"
    }
   ],
   "source": [
    "%%nose\n",
    "import pandas as pd\n",
    "import numpy as np\n",
    "import re\n",
    "from pandas.api.types import is_numeric_dtype\n",
    "convert_index = lambda x: x.lower().strip()\n",
    "\n",
    "# Specify solution DataFrame as a dictionary here\n",
    "fragrance = [58.00, 92.85, 17.00, 182.70]\n",
    "makeup = [24.08, 39.12, 16.83, 61.35]\n",
    "skincare = [36.90, 88.08, 10.04, 74.86]\n",
    "brands = [\"clinique\", \"dior\", \"sephora collection\", \"tom ford\"]\n",
    "test_solution = pd.DataFrame(data={\"fragrance\": fragrance, \"makeup\": makeup, \"skincare\": skincare},\n",
    "                            index=brands).sort_index()\n",
    "\n",
    "def test_project():\n",
    "    \n",
    "    # Check whether the answer has been saved and is a DataFrame\n",
    "    assert \"brand_prices\" in globals() and type(brand_prices) == pd.core.frame.DataFrame, \\\n",
    "    \"Have you assigned your answer to a DataFrame named `brand_prices`?\"\n",
    "    \n",
    "    # Having identified the existence of the DataFrame, convert all the column names to lower-case\n",
    "    test_solution.columns = [x.lower() for x in test_solution.columns.tolist()]\n",
    "    brand_prices.columns = [x.lower() for x in brand_prices.columns.tolist()]\n",
    "    \n",
    "    # Sort the index of the student DataFrame\n",
    "    brand_prices.sort_index(inplace=True)\n",
    "    \n",
    "    # Check that the lower-case and whitespace stripped indexes are equal\n",
    "    assert all(brand_prices.rename(convert_index).index == test_solution.rename(convert_index).index), \\\n",
    "    \"Your index does not contain the expected brands!\"\n",
    "    \n",
    "    # For each column in the DataFrame, ensure it's in the test_solution DataFrame\n",
    "    assert all([x in test_solution.columns for x in brand_prices.columns]), \\\n",
    "    \"Your DataFrame is missing the required columns!\"\n",
    "    \n",
    "    # Check whether the values (converted to an integer) contain in the only column are correct\n",
    "    for col in test_solution.columns.tolist():\n",
    "        if is_numeric_dtype(test_solution[col]):\n",
    "            assert (test_solution[col].astype(int).values == brand_prices[col].astype(int).values).all(),\\\n",
    "            \"Your DataFrame does not contain the correct values!\"\n",
    "        else:\n",
    "            assert (test_solution[col].str.lower().values == brand_prices[col].str.lower().values).all(),\\\n",
    "            \"Your DataFrame does not contain the correct values!\""
   ]
  }
 ],
 "metadata": {
  "kernelspec": {
   "display_name": "Python 3 (ipykernel)",
   "language": "python",
   "name": "python3"
  },
  "language_info": {
   "codemirror_mode": {
    "name": "ipython",
    "version": 3
   },
   "file_extension": ".py",
   "mimetype": "text/x-python",
   "name": "python",
   "nbconvert_exporter": "python",
   "pygments_lexer": "ipython3",
   "version": "3.9.7"
  }
 },
 "nbformat": 4,
 "nbformat_minor": 2
}
